{
 "cells": [
  {
   "cell_type": "markdown",
   "metadata": {},
   "source": [
    "# Exercise129:TwoDiceSimulation"
   ]
  },
  {
   "cell_type": "code",
   "execution_count": 2,
   "metadata": {},
   "outputs": [],
   "source": [
    "import random"
   ]
  },
  {
   "cell_type": "code",
   "execution_count": 107,
   "metadata": {},
   "outputs": [
    {
     "name": "stdout",
     "output_type": "stream",
     "text": [
      "Total    Simulated    Expected\n",
      "         Percent      Percent\n",
      "    2        2.80     2.78\n",
      "    3        4.70     5.56\n",
      "    4        9.80     8.33\n",
      "    5       10.80    11.11\n",
      "    6       14.00    13.89\n",
      "    7       13.80    16.67\n",
      "    8       14.30    19.44\n",
      "    9       11.60    22.22\n",
      "   10        8.90    25.00\n",
      "   11        6.40    27.78\n",
      "   12        3.00    30.56\n"
     ]
    }
   ],
   "source": [
    "def dice_add():\n",
    "    x=random.randint(1,6)\n",
    "    y=random.randint(1,6)\n",
    "    return x+y\n",
    "exp = { 2 :1/36, 3:2/36, 4:3/36, 5:4/36, 6:5/36, 7:6/36, 8:7/36, 9:8/36, 10:9/36, 11:10/36, 12:11/36}\n",
    "count = {2:0,3:0,4:0,5:0,6:0,7:0,8:0,9:0,10:0,11:0,12:0}\n",
    "for i in range(1001):\n",
    "    a = dice_add()\n",
    "    count[a] = count[a]+1\n",
    "print(\"Total    Simulated    Expected\")\n",
    "print(\"         Percent      Percent\")\n",
    "for i in sorted(count.keys()):\n",
    "    print(\"%5d %11.2f %8.2f\" % (i , count[i]/10, exp[i]*100))"
   ]
  },
  {
   "cell_type": "markdown",
   "metadata": {},
   "source": [
    "# Exercise130:TextMessaging"
   ]
  },
  {
   "cell_type": "code",
   "execution_count": 80,
   "metadata": {},
   "outputs": [
    {
     "name": "stdout",
     "output_type": "stream",
     "text": [
      "Please input a text so I can show you how to type it on your phone:Hello. World!\n",
      "4 4 3 3 5 5 5 5 5 5 6 6 6 1 0 9 6 6 6 7 7 7 5 5 5 3 1 1 1 1 "
     ]
    }
   ],
   "source": [
    "Letters = {\n",
    "'1':['.',',','?','!',':'],\n",
    "'2':['A' , 'B' , 'C'],\n",
    "'3':['D' , 'E' ,'F'],\n",
    "'4':['G' , 'H' , 'I'],\n",
    "'5':['J' , 'K' , 'L'],\n",
    "'6':['M' , 'N' , 'O'],\n",
    "'7':['P' , 'Q' , 'R' , 'S'],\n",
    "'8':['T' , 'U' , 'V'],\n",
    "'9':['W' , 'X' , 'Y', 'Z'],\n",
    "'0':[' ']\n",
    "}\n",
    "\n",
    "text = input(\"Please input a text so I can show you how to type it on your phone:\")\n",
    "textc = list(text.upper())\n",
    "for i in textc:\n",
    "    for j,k in Letters.items():\n",
    "        if i in k:\n",
    "            for a in range(len(k)):\n",
    "                if i in k[a]:\n",
    "                    for q in range(a+1):\n",
    "                        print(j, end=' ')"
   ]
  },
  {
   "cell_type": "markdown",
   "metadata": {},
   "source": [
    "# Exercise131:MorseCode"
   ]
  },
  {
   "cell_type": "code",
   "execution_count": 94,
   "metadata": {},
   "outputs": [
    {
     "name": "stdout",
     "output_type": "stream",
     "text": [
      "Please input a text : Hello, World!\n",
      ".... . .-.. .-.. --- .-- --- .-. .-.. -.. "
     ]
    }
   ],
   "source": [
    "MorsCode = {\n",
    "    'A':'.-',\n",
    "    'B':'-...',\n",
    "    'C':'-.-.',\n",
    "    'D':'-..',\n",
    "    'E':'.',\n",
    "    'F':'..-.',\n",
    "    'G':'--.',\n",
    "    'H':'....',\n",
    "    'I':'..',\n",
    "    'J':'.---',\n",
    "    'K':'-.-',\n",
    "    'L':'.-..',\n",
    "    'M':'--',\n",
    "    'N':'-.',\n",
    "    'O':'---',\n",
    "    'P':'.--.',\n",
    "    'Q':'--.-',\n",
    "    'R':'.-.',\n",
    "    'S':'...',\n",
    "    'T':'-',\n",
    "    'U':'..-',\n",
    "    'V':'...-',\n",
    "    'W':'.--',\n",
    "    'Y':'-.--',\n",
    "    'Z':'--..',\n",
    "    '0':'-----',\n",
    "    '1':'.----',\n",
    "    '2':'..---',\n",
    "    '3':'...--',\n",
    "    '4':'....-',\n",
    "    '5':'.....',\n",
    "    '6':'-....',\n",
    "    '7':'--...',\n",
    "    '8':'---..',\n",
    "    '9':'----.'\n",
    "}\n",
    "text = input(\"Please input a text : \")\n",
    "textt = list(text.upper())\n",
    "#print(textt)\n",
    "for a in textt:\n",
    "    for i,j in MorsCode.items():\n",
    "       # print(i,j)\n",
    "        if a in i:\n",
    "            print(j,end=' ')"
   ]
  },
  {
   "cell_type": "markdown",
   "metadata": {},
   "source": [
    "# Exercise132:PostalCodes"
   ]
  },
  {
   "cell_type": "code",
   "execution_count": 126,
   "metadata": {},
   "outputs": [],
   "source": [
    "Adr = {\n",
    "    'A' :'Newfoundland',\n",
    "    'B' : 'Nova Scotia',\n",
    "    'C' : 'Prince Edward Island',\n",
    "    'E' : 'New Brunswick',\n",
    "    'G' : 'Quebec',\n",
    "    'H' :  'Quebec',\n",
    "    'J' : 'Quebec',\n",
    "    'K' :'Ontario',\n",
    "    'L' :'Ontario',\n",
    "    'M' :'Ontario',\n",
    "    'N':'Ontario',\n",
    "    'P' :'Ontario',\n",
    "    'R' : 'Manitoba',\n",
    "    'S' : 'Saskatchewan',\n",
    "    'T' : 'Alberta',\n",
    "    'V' : 'British Columbia',\n",
    "    'X' : ['Nunavut' , 'Northwest Territories'],\n",
    "    'Y' : 'Yukon'\n",
    "}"
   ]
  },
  {
   "cell_type": "code",
   "execution_count": 127,
   "metadata": {
    "scrolled": true
   },
   "outputs": [
    {
     "name": "stdout",
     "output_type": "stream",
     "text": [
      "A Newfoundland\n",
      "B Nova Scotia\n",
      "C Prince Edward Island\n",
      "E New Brunswick\n",
      "G Quebec\n",
      "H Quebec\n",
      "J Quebec\n",
      "K Ontario\n",
      "L Ontario\n",
      "M Ontario\n",
      "N Ontario\n",
      "P Ontario\n",
      "R Manitoba\n",
      "S Saskatchewan\n",
      "T Alberta\n",
      "V British Columbia\n",
      "X ['Nunavut', 'Northwest Territories']\n",
      "Y Yukon\n"
     ]
    }
   ],
   "source": [
    "for i,j in Adr.items():\n",
    "    print (i,j)"
   ]
  },
  {
   "cell_type": "code",
   "execution_count": 134,
   "metadata": {},
   "outputs": [
    {
     "ename": "SyntaxError",
     "evalue": "invalid syntax (<ipython-input-134-e516cb459e05>, line 4)",
     "output_type": "error",
     "traceback": [
      "\u001b[1;36m  File \u001b[1;32m\"<ipython-input-134-e516cb459e05>\"\u001b[1;36m, line \u001b[1;32m4\u001b[0m\n\u001b[1;33m    print(i:j)\u001b[0m\n\u001b[1;37m           ^\u001b[0m\n\u001b[1;31mSyntaxError\u001b[0m\u001b[1;31m:\u001b[0m invalid syntax\n"
     ]
    }
   ],
   "source": [
    "text = list(input(\"Please input a text : \"))\n",
    "for i,j in Adr.items():\n",
    "    if text[0] in i:\n",
    "        print()"
   ]
  },
  {
   "cell_type": "code",
   "execution_count": 139,
   "metadata": {},
   "outputs": [
    {
     "name": "stdout",
     "output_type": "stream",
     "text": [
      "Please input a text : X0A\n",
      "['Nunavut', 'Northwest Territories']\n",
      "rural\n"
     ]
    }
   ],
   "source": [
    "def Adr(x):\n",
    "    return{\n",
    "        'A' :'Newfoundland',\n",
    "        'B' : 'Nova Scotia',\n",
    "        'C' : 'Prince Edward Island',\n",
    "        'E' : 'New Brunswick',\n",
    "        'G' : 'Quebec',\n",
    "        'H' :  'Quebec',\n",
    "        'J' : 'Quebec',\n",
    "        'K' :'Ontario',\n",
    "        'L' :'Ontario',\n",
    "        'M' :'Ontario',\n",
    "        'N':'Ontario',\n",
    "        'P' :'Ontario',\n",
    "        'R' : 'Manitoba',\n",
    "        'S' : 'Saskatchewan',\n",
    "        'T' : 'Alberta', \n",
    "        'V' : 'British Columbia',\n",
    "        'X' : ['Nunavut' , 'Northwest Territories'],\n",
    "        'Y' : 'Yukon'\n",
    "    }.get(x, \"No data\")\n",
    "text = list(input(\"Please input a text : \"))\n",
    "print(Adr(text[0]))\n",
    "if text[1]=='0':\n",
    "    print('rural')\n",
    "else:\n",
    "    print('urban')"
   ]
  },
  {
   "cell_type": "code",
   "execution_count": null,
   "metadata": {},
   "outputs": [],
   "source": []
  }
 ],
 "metadata": {
  "kernelspec": {
   "display_name": "Python 3",
   "language": "python",
   "name": "python3"
  },
  "language_info": {
   "codemirror_mode": {
    "name": "ipython",
    "version": 3
   },
   "file_extension": ".py",
   "mimetype": "text/x-python",
   "name": "python",
   "nbconvert_exporter": "python",
   "pygments_lexer": "ipython3",
   "version": "3.6.5"
  }
 },
 "nbformat": 4,
 "nbformat_minor": 2
}

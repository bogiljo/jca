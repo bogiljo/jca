{
 "cells": [
  {
   "cell_type": "markdown",
   "metadata": {},
   "source": [
    "# Exercise61:Average"
   ]
  },
  {
   "cell_type": "code",
   "execution_count": 12,
   "metadata": {},
   "outputs": [
    {
     "name": "stdout",
     "output_type": "stream",
     "text": [
      "0\n"
     ]
    },
    {
     "ename": "Exception",
     "evalue": "Error : not Enter zero",
     "output_type": "error",
     "traceback": [
      "\u001b[1;31m---------------------------------------------------------------------------\u001b[0m",
      "\u001b[1;31mException\u001b[0m                                 Traceback (most recent call last)",
      "\u001b[1;32m<ipython-input-12-3b91fd9ff056>\u001b[0m in \u001b[0;36m<module>\u001b[1;34m()\u001b[0m\n\u001b[0;32m     10\u001b[0m     \u001b[0mprint\u001b[0m\u001b[1;33m(\u001b[0m\u001b[0msum\u001b[0m\u001b[1;33m(\u001b[0m\u001b[0mnum2\u001b[0m\u001b[1;33m)\u001b[0m\u001b[1;33m/\u001b[0m\u001b[0mlen\u001b[0m\u001b[1;33m(\u001b[0m\u001b[0mnum2\u001b[0m\u001b[1;33m)\u001b[0m\u001b[1;33m)\u001b[0m\u001b[1;33m\u001b[0m\u001b[0m\n\u001b[0;32m     11\u001b[0m \u001b[1;32melse\u001b[0m\u001b[1;33m:\u001b[0m\u001b[1;33m\u001b[0m\u001b[0m\n\u001b[1;32m---> 12\u001b[1;33m     \u001b[1;32mraise\u001b[0m \u001b[0mException\u001b[0m\u001b[1;33m(\u001b[0m\u001b[1;34m'Error : not Enter zero'\u001b[0m\u001b[1;33m)\u001b[0m\u001b[1;33m\u001b[0m\u001b[0m\n\u001b[0m",
      "\u001b[1;31mException\u001b[0m: Error : not Enter zero"
     ]
    }
   ],
   "source": [
    "num2 = list()\n",
    "c=0\n",
    "while True:\n",
    "    num = input()\n",
    "    if num == '0':\n",
    "        break;\n",
    "    else :\n",
    "        num2.append(int(num))\n",
    "if len(num2)!=0:\n",
    "    print(sum(num2)/len(num2))\n",
    "else:\n",
    "    raise Exception('Error : not Enter zero')"
   ]
  },
  {
   "cell_type": "markdown",
   "metadata": {},
   "source": [
    "# Exercise63:TemperatureConversionTable"
   ]
  },
  {
   "cell_type": "markdown",
   "metadata": {},
   "source": [
    "1~100도까지 섭씨 화씨 온도 변환 표 f = c * 9/5 + 32"
   ]
  },
  {
   "cell_type": "code",
   "execution_count": 18,
   "metadata": {},
   "outputs": [
    {
     "name": "stdout",
     "output_type": "stream",
     "text": [
      "c :  1  f :  33.8\n",
      "c :  2  f :  35.6\n",
      "c :  3  f :  37.4\n",
      "c :  4  f :  39.2\n",
      "c :  5  f :  41.0\n",
      "c :  6  f :  42.8\n",
      "c :  7  f :  44.6\n",
      "c :  8  f :  46.4\n",
      "c :  9  f :  48.2\n",
      "c :  10  f :  50.0\n",
      "c :  11  f :  51.8\n",
      "c :  12  f :  53.6\n",
      "c :  13  f :  55.4\n",
      "c :  14  f :  57.2\n",
      "c :  15  f :  59.0\n",
      "c :  16  f :  60.8\n",
      "c :  17  f :  62.6\n",
      "c :  18  f :  64.4\n",
      "c :  19  f :  66.2\n",
      "c :  20  f :  68.0\n",
      "c :  21  f :  69.8\n",
      "c :  22  f :  71.6\n",
      "c :  23  f :  73.4\n",
      "c :  24  f :  75.2\n",
      "c :  25  f :  77.0\n",
      "c :  26  f :  78.8\n",
      "c :  27  f :  80.6\n",
      "c :  28  f :  82.4\n",
      "c :  29  f :  84.2\n",
      "c :  30  f :  86.0\n",
      "c :  31  f :  87.8\n",
      "c :  32  f :  89.6\n",
      "c :  33  f :  91.4\n",
      "c :  34  f :  93.2\n",
      "c :  35  f :  95.0\n",
      "c :  36  f :  96.8\n",
      "c :  37  f :  98.6\n",
      "c :  38  f :  100.4\n",
      "c :  39  f :  102.2\n",
      "c :  40  f :  104.0\n",
      "c :  41  f :  105.8\n",
      "c :  42  f :  107.6\n",
      "c :  43  f :  109.4\n",
      "c :  44  f :  111.2\n",
      "c :  45  f :  113.0\n",
      "c :  46  f :  114.8\n",
      "c :  47  f :  116.6\n",
      "c :  48  f :  118.4\n",
      "c :  49  f :  120.2\n",
      "c :  50  f :  122.0\n",
      "c :  51  f :  123.8\n",
      "c :  52  f :  125.6\n",
      "c :  53  f :  127.4\n",
      "c :  54  f :  129.2\n",
      "c :  55  f :  131.0\n",
      "c :  56  f :  132.8\n",
      "c :  57  f :  134.6\n",
      "c :  58  f :  136.4\n",
      "c :  59  f :  138.2\n",
      "c :  60  f :  140.0\n",
      "c :  61  f :  141.8\n",
      "c :  62  f :  143.6\n",
      "c :  63  f :  145.4\n",
      "c :  64  f :  147.2\n",
      "c :  65  f :  149.0\n",
      "c :  66  f :  150.8\n",
      "c :  67  f :  152.6\n",
      "c :  68  f :  154.4\n",
      "c :  69  f :  156.2\n",
      "c :  70  f :  158.0\n",
      "c :  71  f :  159.8\n",
      "c :  72  f :  161.6\n",
      "c :  73  f :  163.4\n",
      "c :  74  f :  165.2\n",
      "c :  75  f :  167.0\n",
      "c :  76  f :  168.8\n",
      "c :  77  f :  170.6\n",
      "c :  78  f :  172.4\n",
      "c :  79  f :  174.2\n",
      "c :  80  f :  176.0\n",
      "c :  81  f :  177.8\n",
      "c :  82  f :  179.6\n",
      "c :  83  f :  181.4\n",
      "c :  84  f :  183.2\n",
      "c :  85  f :  185.0\n",
      "c :  86  f :  186.8\n",
      "c :  87  f :  188.6\n",
      "c :  88  f :  190.4\n",
      "c :  89  f :  192.2\n",
      "c :  90  f :  194.0\n",
      "c :  91  f :  195.8\n",
      "c :  92  f :  197.6\n",
      "c :  93  f :  199.4\n",
      "c :  94  f :  201.2\n",
      "c :  95  f :  203.0\n",
      "c :  96  f :  204.8\n",
      "c :  97  f :  206.6\n",
      "c :  98  f :  208.4\n",
      "c :  99  f :  210.2\n",
      "c :  100  f :  212.0\n"
     ]
    }
   ],
   "source": [
    "def converse (c):\n",
    "    f=c*9/5+32\n",
    "    return f\n",
    "for i in range(1,101):\n",
    "    print('c : ',i,' f : ',converse(i))"
   ]
  },
  {
   "cell_type": "markdown",
   "metadata": {},
   "source": [
    "# Exercise66:ComputeaGradePointAverage"
   ]
  },
  {
   "cell_type": "code",
   "execution_count": 31,
   "metadata": {},
   "outputs": [
    {
     "name": "stdout",
     "output_type": "stream",
     "text": [
      "A+\n",
      "B+\n",
      "C\n",
      "\n",
      "3.1\n"
     ]
    }
   ],
   "source": [
    "grade_list= list()\n",
    "sum_g = float(0)\n",
    "def g(x):\n",
    "    return{\n",
    "        'A+' : 4.0,\n",
    "        'A' : 4.0,\n",
    "        'A-' : 3.7,\n",
    "        'B+' : 3.3,\n",
    "        'B' : 3.0,\n",
    "        'B-' : 2.7,\n",
    "        'C+' : 2.3,\n",
    "        'C' : 2.0,\n",
    "        'C-' : 1.7,\n",
    "        'D+':1.3,\n",
    "        'D':1.0,\n",
    "        'F':0.0\n",
    "        \n",
    "    }.get(x, \"No data\")\n",
    "while True:\n",
    "    grade = input()\n",
    "    if grade is '':\n",
    "        break;\n",
    "    else :\n",
    "        grade_list.append(grade)\n",
    "for i in grade_list:\n",
    "    sum_g+=g(i)\n",
    "print(sum_g/len(grade_list))\n"
   ]
  },
  {
   "cell_type": "markdown",
   "metadata": {},
   "source": [
    "# Exercise67:AdmissionPrice"
   ]
  },
  {
   "cell_type": "markdown",
   "metadata": {},
   "source": [
    "Children between 3 and 12 years of age cost $14.00. Seniors aged 65 years and over cost $18.00. Admission for all other guests is $23.00. 소수점 두자리 끊기."
   ]
  },
  {
   "cell_type": "code",
   "execution_count": 8,
   "metadata": {},
   "outputs": [
    {
     "name": "stdout",
     "output_type": "stream",
     "text": [
      "12\n",
      "6\n",
      "\n",
      "28.00\n"
     ]
    }
   ],
   "source": [
    "user_list = list()\n",
    "sum_pay = 0\n",
    "def div_pay(x):\n",
    "    if(2<x<13):\n",
    "        return 14.00\n",
    "    elif(x>=65):\n",
    "        return 18.00\n",
    "    else:\n",
    "        return 23.00\n",
    "while True:\n",
    "    user_age = input()\n",
    "    if user_age == '':\n",
    "        break;\n",
    "    else :\n",
    "        user_list.append(user_age)\n",
    "for i in user_list:\n",
    "    sum_pay+=div_pay(int(i))\n",
    "print('%.2f'%sum_pay)"
   ]
  },
  {
   "cell_type": "markdown",
   "metadata": {},
   "source": [
    "# Exercise72:IsaStringaPalindrome?"
   ]
  },
  {
   "cell_type": "markdown",
   "metadata": {},
   "source": [
    "Astringisapalindromeifitisidenticalforwardandbackward.Forexample“anna”, “civic”,“level”and“hannah”areallexamplesofpalindromicwords.Writeaprogram that reads a string from the user and uses a loop to determines whether or not it is a palindrome. Display the result, including a meaningful output message."
   ]
  },
  {
   "cell_type": "code",
   "execution_count": 14,
   "metadata": {},
   "outputs": [
    {
     "name": "stdout",
     "output_type": "stream",
     "text": [
      "hannah\n",
      "palindrome\n"
     ]
    }
   ],
   "source": [
    "a = list(input())\n",
    "r = len(a)/2\n",
    "for i in range(0,int(r)):\n",
    "    if(a[i]==a[-i-1]):\n",
    "        continue\n",
    "    else:\n",
    "        print('not palindrome')\n",
    "        break\n",
    "else:\n",
    "    print('palindrome')\n"
   ]
  },
  {
   "cell_type": "markdown",
   "metadata": {},
   "source": [
    "# Exercise74:MultiplicationTable"
   ]
  },
  {
   "cell_type": "code",
   "execution_count": 63,
   "metadata": {},
   "outputs": [
    {
     "name": "stdout",
     "output_type": "stream",
     "text": [
      "\t 1\t 2\t 3\t 4\t 5\t 6\t 7\t 8\t 9\t 10\n",
      "\n",
      "1\t1\t2\t3\t4\t5\t6\t7\t8\t9\t10\t\n",
      "\n",
      "2\t2\t4\t6\t8\t10\t12\t14\t16\t18\t20\t\n",
      "\n",
      "3\t3\t6\t9\t12\t15\t18\t21\t24\t27\t30\t\n",
      "\n",
      "4\t4\t8\t12\t16\t20\t24\t28\t32\t36\t40\t\n",
      "\n",
      "5\t5\t10\t15\t20\t25\t30\t35\t40\t45\t50\t\n",
      "\n",
      "6\t6\t12\t18\t24\t30\t36\t42\t48\t54\t60\t\n",
      "\n",
      "7\t7\t14\t21\t28\t35\t42\t49\t56\t63\t70\t\n",
      "\n",
      "8\t8\t16\t24\t32\t40\t48\t56\t64\t72\t80\t\n",
      "\n",
      "9\t9\t18\t27\t36\t45\t54\t63\t72\t81\t90\t\n",
      "\n",
      "10\t10\t20\t30\t40\t50\t60\t70\t80\t90\t100\t\n",
      "\n"
     ]
    }
   ],
   "source": [
    "for i in range(1,11):\n",
    "    print(\"\\t\",i,end=\"\")\n",
    "print(\"\\n\")\n",
    "for i in range(1,11):\n",
    "    print(i,end=\"\\t\")\n",
    "    for j in range(1,11):\n",
    "        print(i*j,end=\"\\t\")\n",
    "        \n",
    "    print(\"\\n\")"
   ]
  },
  {
   "cell_type": "markdown",
   "metadata": {},
   "source": [
    "# Exercise75:GreatestCommonDivisor"
   ]
  },
  {
   "cell_type": "code",
   "execution_count": 43,
   "metadata": {},
   "outputs": [
    {
     "name": "stdout",
     "output_type": "stream",
     "text": [
      "4\n",
      "8\n",
      "4\n"
     ]
    }
   ],
   "source": [
    "aa = int(input())\n",
    "bb = int(input())\n",
    "cc = min(aa,bb)\n",
    "while True:\n",
    "    if(aa%cc==0 and bb%cc==0):\n",
    "        print(cc)\n",
    "        break;\n",
    "    else:\n",
    "        cc=cc-1\n",
    "    \n",
    "    \n"
   ]
  },
  {
   "cell_type": "code",
   "execution_count": 36,
   "metadata": {},
   "outputs": [
    {
     "data": {
      "text/plain": [
       "str"
      ]
     },
     "execution_count": 36,
     "metadata": {},
     "output_type": "execute_result"
    }
   ],
   "source": [
    "type(aa)"
   ]
  },
  {
   "cell_type": "markdown",
   "metadata": {},
   "source": [
    "# Exercise77:BinarytoDecimal"
   ]
  },
  {
   "cell_type": "code",
   "execution_count": 29,
   "metadata": {},
   "outputs": [
    {
     "name": "stdout",
     "output_type": "stream",
     "text": [
      "10101\n",
      "21\n"
     ]
    }
   ],
   "source": [
    "a = input()\n",
    "b = list()\n",
    "sum_all=0\n",
    "for i in range(0,len(a)):\n",
    "    sum_all += int(a[i])*(2**(len(a)-i-1))\n",
    "print(sum_all)"
   ]
  },
  {
   "cell_type": "markdown",
   "metadata": {},
   "source": [
    "# Exercise78:DecimaltoBinary"
   ]
  },
  {
   "cell_type": "code",
   "execution_count": 23,
   "metadata": {},
   "outputs": [
    {
     "name": "stdout",
     "output_type": "stream",
     "text": [
      "15\n",
      "[1, 1, 1, 1]\n"
     ]
    }
   ],
   "source": [
    "dtb_list=list()\n",
    "e = int(input())\n",
    "while True:\n",
    "    p=int(e)/2\n",
    "    r=int(e)%2\n",
    "    if p==0 :\n",
    "        break;\n",
    "    else:\n",
    "           dtb_list.append(r)\n",
    "    e = p\n",
    "dtb_list.reverse()\n",
    "print(dtb_list)"
   ]
  }
 ],
 "metadata": {
  "kernelspec": {
   "display_name": "Python 3",
   "language": "python",
   "name": "python3"
  }
 },
 "nbformat": 4,
 "nbformat_minor": 2
}

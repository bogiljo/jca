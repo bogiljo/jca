{
 "cells": [
  {
   "cell_type": "markdown",
   "metadata": {},
   "source": [
    "# Excercise 105: ReverseOrder"
   ]
  },
  {
   "cell_type": "code",
   "execution_count": 2,
   "metadata": {},
   "outputs": [
    {
     "name": "stdout",
     "output_type": "stream",
     "text": [
      "2\n",
      "3\n",
      "7\n",
      "0\n",
      "['7', '3', '2']\n"
     ]
    }
   ],
   "source": [
    "i = int (0)\n",
    "b= list()\n",
    "while True:\n",
    "    a = input()\n",
    "    if(a!='0'):\n",
    "        b.append(a)\n",
    "    else:\n",
    "        b.reverse()\n",
    "        print(b)\n",
    "        break;\n",
    "                                                                                                                                                                  "
   ]
  },
  {
   "cell_type": "markdown",
   "metadata": {},
   "source": [
    "# Excercise 107:Avoiding Duplicates"
   ]
  },
  {
   "cell_type": "code",
   "execution_count": 12,
   "metadata": {
    "scrolled": true
   },
   "outputs": [
    {
     "name": "stdout",
     "output_type": "stream",
     "text": [
      "first\n",
      "second\n",
      "first\n",
      "third\n",
      "\n",
      "['first', 'second', 'third']\n"
     ]
    }
   ],
   "source": [
    "a = list()\n",
    "c = list()\n",
    "while True:\n",
    "    \n",
    "    b = input()\n",
    "    if(b != '' and b not in a):\n",
    "        a.append(b)\n",
    "    elif(b !=''):\n",
    "        continue\n",
    "    else:\n",
    "        print(a)\n",
    "        break;\n",
    "        "
   ]
  },
  {
   "cell_type": "markdown",
   "metadata": {},
   "source": [
    "# Exercise108:Negatives,ZerosandPositives"
   ]
  },
  {
   "cell_type": "code",
   "execution_count": 84,
   "metadata": {},
   "outputs": [
    {
     "name": "stdout",
     "output_type": "stream",
     "text": [
      "-5,1,0,9,4,3,8,-1,-3,0\n",
      "[-5, -3, -1, 0, 0, 1, 3, 4, 8, 9]\n"
     ]
    }
   ],
   "source": [
    "a = input()\n",
    "c = a.split(',')\n",
    "d = list()\n",
    "for i in c:\n",
    "    d.append(int(i))\n",
    "d.sort()\n",
    "print(d)"
   ]
  },
  {
   "cell_type": "markdown",
   "metadata": {},
   "source": [
    "# Exercise110:PerfectNumbers"
   ]
  },
  {
   "cell_type": "code",
   "execution_count": 11,
   "metadata": {},
   "outputs": [
    {
     "name": "stdout",
     "output_type": "stream",
     "text": [
      "28\n",
      "1\n",
      "2\n",
      "4\n",
      "7\n",
      "14\n",
      "28\n",
      "perfect number\n"
     ]
    }
   ],
   "source": [
    "a = input()\n",
    "b = int(a)\n",
    "c = list()\n",
    "i=1\n",
    "sum=0\n",
    "for i in range(b):\n",
    "    try:\n",
    "        if(b%i==0):\n",
    "            print(i)\n",
    "            sum+=i\n",
    "    except:\n",
    "        True\n",
    "    \n",
    "print(sum)\n",
    "if(sum==b):\n",
    "    print('perfect number')\n",
    "else:\n",
    "    print('not perfect number')"
   ]
  },
  {
   "cell_type": "markdown",
   "metadata": {},
   "source": [
    "# Exercise 113: Formatting a List"
   ]
  },
  {
   "cell_type": "markdown",
   "metadata": {},
   "source": [
    "멀까요...."
   ]
  },
  {
   "cell_type": "markdown",
   "metadata": {},
   "source": [
    "# Exercise 114: Random Lottery Numbers"
   ]
  },
  {
   "cell_type": "code",
   "execution_count": 14,
   "metadata": {},
   "outputs": [],
   "source": [
    "import random"
   ]
  },
  {
   "cell_type": "code",
   "execution_count": 32,
   "metadata": {},
   "outputs": [
    {
     "name": "stdout",
     "output_type": "stream",
     "text": [
      "[2, 24, 27, 31, 42, 44]\n"
     ]
    }
   ],
   "source": [
    "c = set()\n",
    "d = list()\n",
    "while True:\n",
    "    c.add(random.randrange(1,50))\n",
    "    if(len(c)==6):\n",
    "        break;\n",
    "d = list(c)\n",
    "d.sort()\n",
    "print(d)"
   ]
  },
  {
   "cell_type": "markdown",
   "metadata": {},
   "source": [
    "# Exercise 134: Unique Characters"
   ]
  },
  {
   "cell_type": "code",
   "execution_count": 59,
   "metadata": {},
   "outputs": [
    {
     "name": "stdout",
     "output_type": "stream",
     "text": [
      "hello, world!\n",
      "10\n"
     ]
    }
   ],
   "source": [
    "import string\n",
    "a = input()\n",
    "b = set(a)\n",
    "count = 0\n",
    "for i in b:\n",
    "    count+=1\n",
    "print(count)"
   ]
  },
  {
   "cell_type": "markdown",
   "metadata": {},
   "source": [
    "# Exercise 135: Anagrams"
   ]
  },
  {
   "cell_type": "code",
   "execution_count": 70,
   "metadata": {},
   "outputs": [
    {
     "name": "stdout",
     "output_type": "stream",
     "text": [
      "valid\n",
      "adliv\n",
      "Anagrams\n"
     ]
    }
   ],
   "source": [
    "a = list(input())\n",
    "b = list(input())\n",
    "a.sort()\n",
    "b.sort()\n",
    "if(a == b):\n",
    "    print('Anagrams')\n",
    "else:\n",
    "    print('Not Anagrams')"
   ]
  },
  {
   "cell_type": "code",
   "execution_count": null,
   "metadata": {},
   "outputs": [],
   "source": []
  }
 ],
 "metadata": {
  "kernelspec": {
   "display_name": "Python 3",
   "language": "python",
   "name": "python3"
  },
  "language_info": {
   "codemirror_mode": {
    "name": "ipython",
    "version": 3
   },
   "file_extension": ".py",
   "mimetype": "text/x-python",
   "name": "python",
   "nbconvert_exporter": "python",
   "pygments_lexer": "ipython3",
   "version": "3.6.5"
  }
 },
 "nbformat": 4,
 "nbformat_minor": 2
}

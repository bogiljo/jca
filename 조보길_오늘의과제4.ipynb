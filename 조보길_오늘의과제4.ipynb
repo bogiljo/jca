{
 "cells": [
  {
   "cell_type": "markdown",
   "metadata": {},
   "source": [
    "# Exercise82:TaxiFare"
   ]
  },
  {
   "cell_type": "code",
   "execution_count": 10,
   "metadata": {},
   "outputs": [
    {
     "name": "stdout",
     "output_type": "stream",
     "text": [
      "0.7\n"
     ]
    },
    {
     "data": {
      "text/plain": [
       "5.25"
      ]
     },
     "execution_count": 10,
     "metadata": {},
     "output_type": "execute_result"
    }
   ],
   "source": [
    "def cal(x):\n",
    "    b =4+float(x)*1000/140*0.25\n",
    "    return b\n",
    "a=input()\n",
    "cal(a)"
   ]
  },
  {
   "cell_type": "markdown",
   "metadata": {},
   "source": [
    "# Exercise84:MedianofThreeValues"
   ]
  },
  {
   "cell_type": "code",
   "execution_count": 11,
   "metadata": {},
   "outputs": [
    {
     "name": "stdout",
     "output_type": "stream",
     "text": [
      "927\n",
      "['9', '2', '7']\n",
      "['2', '7', '9']\n",
      "7\n"
     ]
    }
   ],
   "source": [
    "a = list(input())\n",
    "print(a)\n",
    "a.sort()\n",
    "print(a)\n",
    "print(a[len(a)//2])"
   ]
  },
  {
   "cell_type": "markdown",
   "metadata": {},
   "source": [
    "# Exercise85:Convert an Integer to its Ordinal Number"
   ]
  },
  {
   "cell_type": "code",
   "execution_count": 5,
   "metadata": {},
   "outputs": [
    {
     "name": "stdout",
     "output_type": "stream",
     "text": [
      "12\n",
      "12 th\n"
     ]
    }
   ],
   "source": [
    "a = input()\n",
    "def suffix(i):\n",
    "    ii=int(i)\n",
    "    if 0<ii<13:\n",
    "        return {1:\"st\", 2:\"nd\", 3:\"rd\"}.get(ii%10*(ii%100 not in [11,12,13]), \"th\")\n",
    "    else:\n",
    "        return ''\n",
    "print (a,suffix(a))"
   ]
  },
  {
   "cell_type": "markdown",
   "metadata": {},
   "source": [
    "# Exercise88:IsitaValidTriangle?"
   ]
  },
  {
   "cell_type": "code",
   "execution_count": 20,
   "metadata": {},
   "outputs": [
    {
     "name": "stdout",
     "output_type": "stream",
     "text": [
      "2\n",
      "7\n",
      "3\n"
     ]
    },
    {
     "data": {
      "text/plain": [
       "False"
      ]
     },
     "execution_count": 20,
     "metadata": {},
     "output_type": "execute_result"
    }
   ],
   "source": [
    "a = input()\n",
    "b = input()\n",
    "c = input()\n",
    "\n",
    "def triangle(x,y,z):\n",
    "    d = int(x)\n",
    "    e = int(y)\n",
    "    f = int(z)\n",
    "    if(max(d,e,f)>((d+e+f)-max(d,e,f))):\n",
    "        return False\n",
    "    else:\n",
    "        return True\n",
    "triangle(a,b,c)"
   ]
  },
  {
   "cell_type": "markdown",
   "metadata": {},
   "source": [
    "# Exercise92:IsaNumberPrime?"
   ]
  },
  {
   "cell_type": "code",
   "execution_count": 30,
   "metadata": {},
   "outputs": [
    {
     "name": "stdout",
     "output_type": "stream",
     "text": [
      "7\n"
     ]
    },
    {
     "data": {
      "text/plain": [
       "True"
      ]
     },
     "execution_count": 30,
     "metadata": {},
     "output_type": "execute_result"
    }
   ],
   "source": [
    "a = input()\n",
    "def is_prime(t):\n",
    "    c = [x for x in range(1,int(t)+1)if int(t)%x==0]\n",
    "    if(len(c)==2):\n",
    "        return True\n",
    "    else:\n",
    "        return False\n",
    "is_prime(a)"
   ]
  },
  {
   "cell_type": "code",
   "execution_count": 28,
   "metadata": {},
   "outputs": [
    {
     "data": {
      "text/plain": [
       "[1, 2, 4, 5, 10, 20]"
      ]
     },
     "execution_count": 28,
     "metadata": {},
     "output_type": "execute_result"
    }
   ],
   "source": [
    "c"
   ]
  },
  {
   "cell_type": "code",
   "execution_count": null,
   "metadata": {},
   "outputs": [],
   "source": []
  }
 ],
 "metadata": {
  "kernelspec": {
   "display_name": "Python 3",
   "language": "python",
   "name": "python3"
  }
 },
 "nbformat": 4,
 "nbformat_minor": 2
}

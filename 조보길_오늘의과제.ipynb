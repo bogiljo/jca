{
 "cells": [
  {
   "cell_type": "markdown",
   "metadata": {},
   "source": [
    "# 관심있는 분야"
   ]
  },
  {
   "cell_type": "markdown",
   "metadata": {},
   "source": [
    "딥러닝, 인공신경망, 패턴분석"
   ]
  },
  {
   "cell_type": "markdown",
   "metadata": {},
   "source": [
    "# 배우고 싶은 내용"
   ]
  },
  {
   "cell_type": "markdown",
   "metadata": {},
   "source": [
    "저는 인공지능과 데이터분석에 관심이 많고 이를 통한 개발능력 향상이 목적이라\n",
    "이번 교육이 단순히 공공 데이터 분석에 그치지 않고 개발에 초점이 맞추어 졌으면 좋겠습니다.\n",
    "전반적인 교육과정이 마음에 드는데요... 텐서플로우도 사용해 보는 시간이 있으면 좋겠습니다!\n",
    "또한 단순히 학습법말고 응용할 수 있는 방법에 대해 많이 언급해 주시면 좋겠습니다...\n",
    "\n",
    "이를 통해서 주식예측이나 금융권에서 일반 이용자가 알기 어려운 부분에 대해서 굳이 은행에 가지 않아도 본인 소비패턴이나 저축패턴에 맞는 상품 추천분석 혹은 경제동향 분석에 따른 이자율 예측 프로그램 등을 개발하고 싶고 교육분야에서 아이들 개개인의 특정 상황에 대한 패턴 분석을 통해서 심리 상태나 학업 상태 집중도 정도를 파악하는 시스템을 개발하고 싶습니다.\n",
    "\n",
    "세부적인 기술에 대해서는 사실 저도 잘 모르지만 지금 제일 관심이 가는 커리큘럼은 딥러닝 분야입니다."
   ]
  },
  {
   "cell_type": "markdown",
   "metadata": {},
   "source": [
    "# 분석하고 싶은 데이터"
   ]
  },
  {
   "cell_type": "markdown",
   "metadata": {},
   "source": [
    "금융, 의료, 교육 관련 데이터"
   ]
  }
 ],
 "metadata": {
  "kernelspec": {
   "display_name": "Python 3",
   "language": "python",
   "name": "python3"
  },
  "language_info": {
   "codemirror_mode": {
    "name": "ipython",
    "version": 3
   },
   "file_extension": ".py",
   "mimetype": "text/x-python",
   "name": "python",
   "nbconvert_exporter": "python",
   "pygments_lexer": "ipython3",
   "version": "3.6.5"
  }
 },
 "nbformat": 4,
 "nbformat_minor": 2
}
